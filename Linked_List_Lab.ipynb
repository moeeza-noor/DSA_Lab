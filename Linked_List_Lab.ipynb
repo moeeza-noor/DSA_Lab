{
  "nbformat": 4,
  "nbformat_minor": 0,
  "metadata": {
    "colab": {
      "name": "Linked List_Lab",
      "provenance": [],
      "collapsed_sections": [],
      "authorship_tag": "ABX9TyMxTTNMJrgikOg2kN0tNmFJ",
      "include_colab_link": true
    },
    "kernelspec": {
      "name": "python3",
      "display_name": "Python 3"
    },
    "language_info": {
      "name": "python"
    }
  },
  "cells": [
    {
      "cell_type": "markdown",
      "metadata": {
        "id": "view-in-github",
        "colab_type": "text"
      },
      "source": [
        "<a href=\"https://colab.research.google.com/github/moeeza-noor/DSA_Lab/blob/main/Linked_List_Lab.ipynb\" target=\"_parent\"><img src=\"https://colab.research.google.com/assets/colab-badge.svg\" alt=\"Open In Colab\"/></a>"
      ]
    },
    {
      "cell_type": "code",
      "metadata": {
        "id": "vEHRkf3BtB5T"
      },
      "source": [
        "class node:\n",
        "  def __init__(self,data=None):\n",
        "    self.data = data\n",
        "    self.next = None\n",
        "\n",
        "class linked_list:\n",
        "  def __init__(self):\n",
        "    self.head = node()\n",
        " \n",
        "  def append(self, data):\n",
        "    new_node = node(data)\n",
        "    curr=self.head\n",
        "    while curr.next!=None:\n",
        "      curr = curr.next\n",
        "    curr.next = new_node\n",
        "\n",
        "  def display(self):\n",
        "    curr = self.head \n",
        "    dis = []\n",
        "    while curr.next!=None:\n",
        "      curr = curr.next\n",
        "      dis.append(curr.data)\n",
        "    print(dis)\n",
        "\n",
        "  def insertion_left(self,data):\n",
        "    new_node = node(data)\n",
        "    curr=self.head\n",
        "    new_node.next = self.head\n",
        "    while curr.next!=None:\n",
        "      curr = curr.next\n",
        "    self.head = new_node\n",
        "\n",
        "  def insertPos(self, position, data):\n",
        "    curr=self.head\n",
        "    new_node = node(data)\n",
        "    new_node.next = self.head  \n",
        "    self.head = new_node\n",
        "\n",
        "  def delete(self):\n",
        "    curr =self.head\n",
        "    while(curr.next.next):\n",
        "      secondlast_node = curr.next\n",
        "      curr = curr.next\n",
        "    curr.next = None"
      ],
      "execution_count": 59,
      "outputs": []
    },
    {
      "cell_type": "code",
      "metadata": {
        "id": "Wiz0Z3YRtjX8"
      },
      "source": [
        "l=linked_list()"
      ],
      "execution_count": 60,
      "outputs": []
    },
    {
      "cell_type": "code",
      "metadata": {
        "id": "XO1sObx1thuE"
      },
      "source": [
        "l.append(2)\n",
        "l.append(5)\n",
        "l.append(3)\n",
        "l.append(7)\n",
        "l.append(4)\n",
        "l.display()"
      ],
      "execution_count": null,
      "outputs": []
    },
    {
      "cell_type": "code",
      "metadata": {
        "id": "Glqg9zYAtrbU"
      },
      "source": [
        "l.insertion_left(1)\n",
        "l.insertion_left(3)\n",
        "l.display()"
      ],
      "execution_count": null,
      "outputs": []
    },
    {
      "cell_type": "code",
      "metadata": {
        "id": "xqC6bc71u4dI"
      },
      "source": [
        "l.delete()\n",
        "l.display()"
      ],
      "execution_count": 63,
      "outputs": []
    },
    {
      "cell_type": "code",
      "metadata": {
        "id": "Rj0ojC6bsUV4"
      },
      "source": [
        "l.insertPos(4,2)\n",
        "l.display()"
      ],
      "execution_count": null,
      "outputs": []
    }
  ]
}